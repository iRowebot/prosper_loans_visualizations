{
 "cells": [
  {
   "cell_type": "markdown",
   "metadata": {
    "slideshow": {
     "slide_type": "slide"
    }
   },
   "source": [
    "# Prosper Loans - Data Visualization\n",
    "## by Ernest Rowe"
   ]
  },
  {
   "cell_type": "markdown",
   "metadata": {
    "slideshow": {
     "slide_type": "slide"
    }
   },
   "source": [
    "## Investigation Overview\n",
    "\n",
    "> Describe the overall goals of your presentation here.\n",
    "\n",
    "## Dataset Overview\n",
    "\n",
    "> Provide a brief overview of the dataset to be presented here."
   ]
  },
  {
   "cell_type": "code",
   "execution_count": 1,
   "metadata": {
    "slideshow": {
     "slide_type": "skip"
    }
   },
   "outputs": [],
   "source": [
    "# import all packages and set plots to be embedded inline\n",
    "import numpy as np\n",
    "import pandas as pd\n",
    "import matplotlib.pyplot as plt\n",
    "import seaborn as sb\n",
    "\n",
    "%matplotlib inline\n",
    "\n",
    "# suppress warnings from final output\n",
    "import warnings\n",
    "warnings.simplefilter(\"ignore\")"
   ]
  },
  {
   "cell_type": "code",
   "execution_count": null,
   "metadata": {
    "slideshow": {
     "slide_type": "skip"
    }
   },
   "outputs": [],
   "source": [
    "# load in the dataset into a pandas dataframe\n"
   ]
  },
  {
   "cell_type": "markdown",
   "metadata": {
    "slideshow": {
     "slide_type": "notes"
    }
   },
   "source": [
    "> Note that the above cells have been set as \"Skip\"-type slides. That means\n",
    "that when the notebook is rendered as http slides, those cells won't show up."
   ]
  },
  {
   "cell_type": "markdown",
   "metadata": {
    "slideshow": {
     "slide_type": "slide"
    }
   },
   "source": [
    "## (Visualization 1)\n",
    "\n",
    "> Write a comment about your visualization here. The visualization should be in\n",
    "the next cell, as a sub-slide type. Make sure your visualizations are polished!"
   ]
  },
  {
   "cell_type": "code",
   "execution_count": 77,
   "metadata": {
    "scrolled": false
   },
   "outputs": [
    {
     "data": {
      "application/vnd.plotly.v1+json": {
       "config": {
        "displayModeBar": false,
        "linkText": "Export to plot.ly",
        "plotlyServerURL": "https://plot.ly",
        "showLink": false
       },
       "data": [
        {
         "autocolorscale": false,
         "colorbar": {
          "title": "Loans",
          "titlefont": {
           "family": "Arial"
          }
         },
         "colorscale": [
          [
           0,
           "rgb(218,218,235)"
          ],
          [
           0.1,
           "rgb(220,208,212)"
          ],
          [
           0.2,
           "rgb(223,198,189)"
          ],
          [
           0.3,
           "rgb(225,189,166)"
          ],
          [
           0.4,
           "rgb(227,179,143)"
          ],
          [
           0.5,
           "rgb(230,169,120)"
          ],
          [
           0.6,
           "rgb(232,159,97)"
          ],
          [
           0.7,
           "rgb(234,149,74)"
          ],
          [
           0.8,
           "rgb(236,140,51)"
          ],
          [
           0.9,
           "rgb(239,130,28)"
          ],
          [
           1,
           "rgb(241,120,5)"
          ]
         ],
         "hoverinfo": "location+text",
         "locationmode": "USA-states",
         "locations": [
          "AK",
          "AL",
          "AR",
          "AZ",
          "CA",
          "CO",
          "CT",
          "DC",
          "DE",
          "FL",
          "GA",
          "HI",
          "IA",
          "ID",
          "IL",
          "IN",
          "KS",
          "KY",
          "LA",
          "MA",
          "MD",
          "ME",
          "MI",
          "MN",
          "MO",
          "MS",
          "MT",
          "NC",
          "ND",
          "NE",
          "NH",
          "NJ",
          "NM",
          "NV",
          "NY",
          "OH",
          "OK",
          "OR",
          "PA",
          "RI",
          "SC",
          "SD",
          "TN",
          "TX",
          "UT",
          "VA",
          "VT",
          "WA",
          "WI",
          "WV",
          "WY"
         ],
         "marker": {
          "line": {
           "color": "rgb(255,255,255)",
           "width": 2
          }
         },
         "reversescale": false,
         "text": [
          "Population: 737,438<br>         2006: 2<br>         2007: 11<br>         2008: 20<br>         2009: 1<br>         2010: 11<br>         2011: 26<br>         2012: 40<br>         2013: 60<br>         2014: 28<br>         Total: 199",
          "Population: 4,887,871<br>         2006: 71<br>         2007: 225<br>         2008: 195<br>         2009: 24<br>         2010: 89<br>         2011: 156<br>         2012: 294<br>         2013: 467<br>         2014: 147<br>         Total: 1668",
          "Population: 3,013,825<br>         2006: 6<br>         2007: 8<br>         2008: 72<br>         2009: 15<br>         2010: 34<br>         2011: 90<br>         2012: 172<br>         2013: 331<br>         2014: 123<br>         Total: 851",
          "Population: 7,171,646<br>         2006: 69<br>         2007: 218<br>         2008: 255<br>         2009: 26<br>         2010: 85<br>         2011: 144<br>         2012: 316<br>         2013: 554<br>         2014: 215<br>         Total: 1882",
          "Population: 39,557,045<br>         2006: 503<br>         2007: 1724<br>         2008: 1711<br>         2009: 267<br>         2010: 752<br>         2011: 1304<br>         2012: 2313<br>         2013: 4469<br>         2014: 1551<br>         Total: 14594",
          "Population: 5,695,564<br>         2006: 53<br>         2007: 192<br>         2008: 231<br>         2009: 60<br>         2010: 117<br>         2011: 235<br>         2012: 395<br>         2013: 663<br>         2014: 243<br>         Total: 2189",
          "Population: 3,572,665<br>         2006: 8<br>         2007: 30<br>         2008: 91<br>         2009: 37<br>         2010: 80<br>         2011: 194<br>         2012: 335<br>         2013: 640<br>         2014: 198<br>         Total: 1613",
          "Population: 702,455<br>         2008: 52<br>         2009: 11<br>         2010: 18<br>         2011: 64<br>         2012: 87<br>         2013: 110<br>         2014: 37<br>         Total: 379",
          "Population: 967,171<br>         2006: 2<br>         2007: 5<br>         2008: 25<br>         2009: 7<br>         2010: 16<br>         2011: 31<br>         2012: 61<br>         2013: 101<br>         2014: 51<br>         Total: 299",
          "Population: 21,299,325<br>         2006: 144<br>         2007: 409<br>         2008: 757<br>         2009: 116<br>         2010: 355<br>         2011: 804<br>         2012: 1345<br>         2013: 2028<br>         2014: 709<br>         Total: 6667",
          "Population: 10,519,475<br>         2006: 251<br>         2007: 719<br>         2008: 683<br>         2009: 125<br>         2010: 262<br>         2011: 502<br>         2012: 800<br>         2013: 1210<br>         2014: 424<br>         Total: 4976",
          "Population: 1,420,491<br>         2006: 5<br>         2007: 18<br>         2008: 43<br>         2009: 7<br>         2010: 14<br>         2011: 34<br>         2012: 68<br>         2013: 166<br>         2014: 52<br>         Total: 407",
          "Population: 3,156,145<br>         2006: 13<br>         2007: 73<br>         2008: 100<br>         Total: 186",
          "Population: 1,754,208<br>         2006: 20<br>         2007: 75<br>         2008: 101<br>         2009: 14<br>         2010: 40<br>         2011: 48<br>         2012: 75<br>         2013: 155<br>         2014: 61<br>         Total: 589",
          "Population: 12,741,080<br>         2006: 167<br>         2007: 726<br>         2008: 756<br>         2009: 132<br>         2010: 319<br>         2011: 607<br>         2012: 965<br>         2013: 1669<br>         2014: 531<br>         Total: 5872",
          "Population: 6,691,878<br>         2006: 50<br>         2007: 144<br>         2008: 230<br>         2009: 46<br>         2010: 115<br>         2011: 238<br>         2012: 403<br>         2013: 630<br>         2014: 213<br>         Total: 2069",
          "Population: 2,911,505<br>         2006: 32<br>         2007: 71<br>         2008: 103<br>         2009: 4<br>         2010: 46<br>         2011: 111<br>         2012: 208<br>         2013: 348<br>         2014: 129<br>         Total: 1052",
          "Population: 4,468,402<br>         2006: 1<br>         2007: 21<br>         2008: 72<br>         2009: 12<br>         2010: 49<br>         2011: 111<br>         2012: 241<br>         2013: 356<br>         2014: 111<br>         Total: 974",
          "Population: 4,659,978<br>         2006: 19<br>         2007: 40<br>         2008: 53<br>         2009: 7<br>         2010: 47<br>         2011: 111<br>         2012: 220<br>         2013: 330<br>         2014: 115<br>         Total: 942",
          "Population: 6,902,149<br>         2006: 47<br>         2007: 137<br>         2008: 224<br>         2009: 33<br>         2010: 110<br>         2011: 196<br>         2012: 440<br>         2013: 763<br>         2014: 272<br>         Total: 2222",
          "Population: 6,042,718<br>         2006: 33<br>         2007: 235<br>         2008: 311<br>         2009: 55<br>         2010: 147<br>         2011: 312<br>         2012: 580<br>         2013: 841<br>         2014: 280<br>         Total: 2794",
          "Population: 1,338,404<br>         2006: 8<br>         2007: 34<br>         2008: 59<br>         Total: 101",
          "Population: 9,995,915<br>         2006: 133<br>         2007: 442<br>         2008: 393<br>         2009: 58<br>         2010: 164<br>         2011: 321<br>         2012: 622<br>         2013: 1048<br>         2014: 387<br>         Total: 3568",
          "Population: 5,611,179<br>         2006: 5<br>         2007: 216<br>         2008: 375<br>         2009: 59<br>         2010: 120<br>         2011: 229<br>         2012: 397<br>         2013: 670<br>         2014: 237<br>         Total: 2308",
          "Population: 6,126,452<br>         2006: 112<br>         2007: 370<br>         2008: 336<br>         2009: 63<br>         2010: 162<br>         2011: 275<br>         2012: 411<br>         2013: 653<br>         2014: 216<br>         Total: 2598",
          "Population: 2,986,530<br>         2006: 8<br>         2007: 29<br>         2008: 75<br>         2009: 14<br>         2010: 34<br>         2011: 96<br>         2012: 146<br>         2013: 287<br>         2014: 94<br>         Total: 783",
          "Population: 1,062,305<br>         2006: 15<br>         2007: 43<br>         2008: 51<br>         2009: 4<br>         2010: 15<br>         2011: 31<br>         2012: 48<br>         2013: 95<br>         2014: 26<br>         Total: 328",
          "Population: 10,383,620<br>         2006: 70<br>         2007: 213<br>         2008: 358<br>         2009: 66<br>         2010: 211<br>         2011: 361<br>         2012: 602<br>         2013: 875<br>         2014: 311<br>         Total: 3067",
          "Population: 760,077<br>         2006: 7<br>         2007: 20<br>         2008: 25<br>         Total: 52",
          "Population: 1,929,268<br>         2006: 9<br>         2007: 42<br>         2008: 67<br>         2009: 13<br>         2010: 31<br>         2011: 68<br>         2012: 108<br>         2013: 228<br>         2014: 98<br>         Total: 664",
          "Population: 1,356,458<br>         2006: 11<br>         2007: 39<br>         2008: 58<br>         2009: 6<br>         2010: 21<br>         2011: 53<br>         2012: 104<br>         2013: 181<br>         2014: 73<br>         Total: 546",
          "Population: 8,908,520<br>         2006: 34<br>         2007: 127<br>         2008: 207<br>         2009: 44<br>         2010: 144<br>         2011: 331<br>         2012: 622<br>         2013: 1166<br>         2014: 387<br>         Total: 3062",
          "Population: 2,095,428<br>         2006: 20<br>         2007: 68<br>         2008: 53<br>         2009: 5<br>         2010: 19<br>         2011: 45<br>         2012: 65<br>         2013: 126<br>         2014: 68<br>         Total: 469",
          "Population: 3,034,392<br>         2008: 65<br>         2009: 15<br>         2010: 63<br>         2011: 111<br>         2012: 192<br>         2013: 475<br>         2014: 157<br>         Total: 1078",
          "Population: 19,542,209<br>         2006: 113<br>         2007: 261<br>         2008: 502<br>         2009: 95<br>         2010: 339<br>         2011: 721<br>         2012: 1371<br>         2013: 2431<br>         2014: 827<br>         Total: 6660",
          "Population: 11,689,442<br>         2006: 6<br>         2007: 337<br>         2008: 477<br>         2009: 68<br>         2010: 220<br>         2011: 440<br>         2012: 765<br>         2013: 1360<br>         2014: 491<br>         Total: 4164",
          "Population: 3,943,079<br>         2006: 24<br>         2007: 92<br>         2008: 122<br>         2009: 19<br>         2010: 56<br>         2011: 83<br>         2012: 174<br>         2013: 283<br>         2014: 113<br>         Total: 966",
          "Population: 4,190,713<br>         2006: 82<br>         2007: 264<br>         2008: 254<br>         2009: 49<br>         2010: 103<br>         2011: 166<br>         2012: 281<br>         2013: 465<br>         2014: 142<br>         Total: 1806",
          "Population: 12,807,060<br>         2006: 11<br>         2007: 5<br>         2008: 277<br>         2009: 62<br>         2010: 145<br>         2011: 358<br>         2012: 619<br>         2013: 1093<br>         2014: 380<br>         Total: 2950",
          "Population: 1,057,315<br>         2008: 25<br>         2009: 6<br>         2010: 22<br>         2011: 56<br>         2012: 89<br>         2013: 180<br>         2014: 54<br>         Total: 432",
          "Population: 5,084,127<br>         2006: 5<br>         2007: 26<br>         2008: 94<br>         2009: 28<br>         2010: 69<br>         2011: 132<br>         2012: 238<br>         2013: 400<br>         2014: 117<br>         Total: 1109",
          "Population: 882,235<br>         2009: 2<br>         2010: 13<br>         2011: 32<br>         2012: 49<br>         2013: 66<br>         2014: 23<br>         Total: 185",
          "Population: 6,770,010<br>         2006: 15<br>         2007: 16<br>         2008: 166<br>         2009: 37<br>         2010: 116<br>         2011: 235<br>         2012: 388<br>         2013: 560<br>         2014: 194<br>         Total: 1727",
          "Population: 28,701,845<br>         2006: 491<br>         2007: 509<br>         2008: 190<br>         2009: 114<br>         2010: 308<br>         2011: 694<br>         2012: 1179<br>         2013: 2446<br>         2014: 855<br>         Total: 6786",
          "Population: 3,161,105<br>         2006: 38<br>         2007: 162<br>         2008: 155<br>         2009: 22<br>         2010: 69<br>         2011: 79<br>         2012: 88<br>         2013: 189<br>         2014: 71<br>         Total: 873",
          "Population: 8,517,685<br>         2006: 37<br>         2007: 114<br>         2008: 345<br>         2009: 73<br>         2010: 205<br>         2011: 405<br>         2012: 641<br>         2013: 1068<br>         2014: 363<br>         Total: 3251",
          "Population: 626,299<br>         2007: 15<br>         2008: 20<br>         2009: 5<br>         2010: 8<br>         2011: 16<br>         2012: 31<br>         2013: 82<br>         2014: 28<br>         Total: 205",
          "Population: 7,535,591<br>         2006: 107<br>         2007: 332<br>         2008: 449<br>         2009: 78<br>         2010: 172<br>         2011: 312<br>         2012: 522<br>         2013: 771<br>         2014: 283<br>         Total: 3026",
          "Population: 5,813,568<br>         2006: 35<br>         2007: 107<br>         2008: 178<br>         2009: 32<br>         2010: 92<br>         2011: 207<br>         2012: 355<br>         2013: 621<br>         2014: 200<br>         Total: 1827",
          "Population: 1,805,832<br>         2006: 13<br>         2007: 26<br>         2008: 42<br>         2009: 7<br>         2010: 16<br>         2011: 42<br>         2012: 68<br>         2013: 138<br>         2014: 34<br>         Total: 386",
          "Population: 577,737<br>         2006: 1<br>         2007: 8<br>         2008: 18<br>         2009: 4<br>         2010: 9<br>         2011: 11<br>         2012: 20<br>         2013: 64<br>         2014: 15<br>         Total: 150"
         ],
         "type": "choropleth",
         "uid": "2fea627c-5b45-4a37-9398-c1848cb68cbc",
         "z": [
          199,
          1668,
          851,
          1882,
          14594,
          2189,
          1613,
          379,
          299,
          6667,
          4976,
          407,
          186,
          589,
          5872,
          2069,
          1052,
          974,
          942,
          2222,
          2794,
          101,
          3568,
          2308,
          2598,
          783,
          328,
          3067,
          52,
          664,
          546,
          3062,
          469,
          1078,
          6660,
          4164,
          966,
          1806,
          2950,
          432,
          1109,
          185,
          1727,
          6786,
          873,
          3251,
          205,
          3026,
          1827,
          386,
          150
         ]
        }
       ],
       "layout": {
        "geo": {
         "lakecolor": "rgb(255,255,255)",
         "projection": {
          "type": "albers usa"
         },
         "scope": "usa",
         "showlakes": true
        },
        "images": [
         {
          "sizex": 0.5,
          "sizey": 0.5,
          "source": "https://i.imgur.com/SDhVixP.png",
          "x": 1.1,
          "xanchor": "right",
          "xref": "paper",
          "y": -0.35,
          "yanchor": "bottom",
          "yref": "paper"
         }
        ]
       }
      },
      "text/html": [
       "<div id=\"b259145e-fa02-4ad0-bbfe-07c190370f90\" style=\"height: 525px; width: 100%;\" class=\"plotly-graph-div\"></div><script type=\"text/javascript\">require([\"plotly\"], function(Plotly) { window.PLOTLYENV=window.PLOTLYENV || {};window.PLOTLYENV.BASE_URL=\"https://plot.ly\";Plotly.newPlot(\"b259145e-fa02-4ad0-bbfe-07c190370f90\", [{\"autocolorscale\": false, \"colorbar\": {\"title\": \"Loans\", \"titlefont\": {\"family\": \"Arial\"}}, \"colorscale\": [[0.0, \"rgb(218,218,235)\"], [0.1, \"rgb(220,208,212)\"], [0.2, \"rgb(223,198,189)\"], [0.3, \"rgb(225,189,166)\"], [0.4, \"rgb(227,179,143)\"], [0.5, \"rgb(230,169,120)\"], [0.6, \"rgb(232,159,97)\"], [0.7, \"rgb(234,149,74)\"], [0.8, \"rgb(236,140,51)\"], [0.9, \"rgb(239,130,28)\"], [1.0, \"rgb(241,120,5)\"]], \"hoverinfo\": \"location+text\", \"locationmode\": \"USA-states\", \"locations\": [\"AK\", \"AL\", \"AR\", \"AZ\", \"CA\", \"CO\", \"CT\", \"DC\", \"DE\", \"FL\", \"GA\", \"HI\", \"IA\", \"ID\", \"IL\", \"IN\", \"KS\", \"KY\", \"LA\", \"MA\", \"MD\", \"ME\", \"MI\", \"MN\", \"MO\", \"MS\", \"MT\", \"NC\", \"ND\", \"NE\", \"NH\", \"NJ\", \"NM\", \"NV\", \"NY\", \"OH\", \"OK\", \"OR\", \"PA\", \"RI\", \"SC\", \"SD\", \"TN\", \"TX\", \"UT\", \"VA\", \"VT\", \"WA\", \"WI\", \"WV\", \"WY\"], \"marker\": {\"line\": {\"color\": \"rgb(255,255,255)\", \"width\": 2}}, \"reversescale\": false, \"text\": [\"Population: 737,438<br>         2006: 2<br>         2007: 11<br>         2008: 20<br>         2009: 1<br>         2010: 11<br>         2011: 26<br>         2012: 40<br>         2013: 60<br>         2014: 28<br>         Total: 199\", \"Population: 4,887,871<br>         2006: 71<br>         2007: 225<br>         2008: 195<br>         2009: 24<br>         2010: 89<br>         2011: 156<br>         2012: 294<br>         2013: 467<br>         2014: 147<br>         Total: 1668\", \"Population: 3,013,825<br>         2006: 6<br>         2007: 8<br>         2008: 72<br>         2009: 15<br>         2010: 34<br>         2011: 90<br>         2012: 172<br>         2013: 331<br>         2014: 123<br>         Total: 851\", \"Population: 7,171,646<br>         2006: 69<br>         2007: 218<br>         2008: 255<br>         2009: 26<br>         2010: 85<br>         2011: 144<br>         2012: 316<br>         2013: 554<br>         2014: 215<br>         Total: 1882\", \"Population: 39,557,045<br>         2006: 503<br>         2007: 1724<br>         2008: 1711<br>         2009: 267<br>         2010: 752<br>         2011: 1304<br>         2012: 2313<br>         2013: 4469<br>         2014: 1551<br>         Total: 14594\", \"Population: 5,695,564<br>         2006: 53<br>         2007: 192<br>         2008: 231<br>         2009: 60<br>         2010: 117<br>         2011: 235<br>         2012: 395<br>         2013: 663<br>         2014: 243<br>         Total: 2189\", \"Population: 3,572,665<br>         2006: 8<br>         2007: 30<br>         2008: 91<br>         2009: 37<br>         2010: 80<br>         2011: 194<br>         2012: 335<br>         2013: 640<br>         2014: 198<br>         Total: 1613\", \"Population: 702,455<br>         2008: 52<br>         2009: 11<br>         2010: 18<br>         2011: 64<br>         2012: 87<br>         2013: 110<br>         2014: 37<br>         Total: 379\", \"Population: 967,171<br>         2006: 2<br>         2007: 5<br>         2008: 25<br>         2009: 7<br>         2010: 16<br>         2011: 31<br>         2012: 61<br>         2013: 101<br>         2014: 51<br>         Total: 299\", \"Population: 21,299,325<br>         2006: 144<br>         2007: 409<br>         2008: 757<br>         2009: 116<br>         2010: 355<br>         2011: 804<br>         2012: 1345<br>         2013: 2028<br>         2014: 709<br>         Total: 6667\", \"Population: 10,519,475<br>         2006: 251<br>         2007: 719<br>         2008: 683<br>         2009: 125<br>         2010: 262<br>         2011: 502<br>         2012: 800<br>         2013: 1210<br>         2014: 424<br>         Total: 4976\", \"Population: 1,420,491<br>         2006: 5<br>         2007: 18<br>         2008: 43<br>         2009: 7<br>         2010: 14<br>         2011: 34<br>         2012: 68<br>         2013: 166<br>         2014: 52<br>         Total: 407\", \"Population: 3,156,145<br>         2006: 13<br>         2007: 73<br>         2008: 100<br>         Total: 186\", \"Population: 1,754,208<br>         2006: 20<br>         2007: 75<br>         2008: 101<br>         2009: 14<br>         2010: 40<br>         2011: 48<br>         2012: 75<br>         2013: 155<br>         2014: 61<br>         Total: 589\", \"Population: 12,741,080<br>         2006: 167<br>         2007: 726<br>         2008: 756<br>         2009: 132<br>         2010: 319<br>         2011: 607<br>         2012: 965<br>         2013: 1669<br>         2014: 531<br>         Total: 5872\", \"Population: 6,691,878<br>         2006: 50<br>         2007: 144<br>         2008: 230<br>         2009: 46<br>         2010: 115<br>         2011: 238<br>         2012: 403<br>         2013: 630<br>         2014: 213<br>         Total: 2069\", \"Population: 2,911,505<br>         2006: 32<br>         2007: 71<br>         2008: 103<br>         2009: 4<br>         2010: 46<br>         2011: 111<br>         2012: 208<br>         2013: 348<br>         2014: 129<br>         Total: 1052\", \"Population: 4,468,402<br>         2006: 1<br>         2007: 21<br>         2008: 72<br>         2009: 12<br>         2010: 49<br>         2011: 111<br>         2012: 241<br>         2013: 356<br>         2014: 111<br>         Total: 974\", \"Population: 4,659,978<br>         2006: 19<br>         2007: 40<br>         2008: 53<br>         2009: 7<br>         2010: 47<br>         2011: 111<br>         2012: 220<br>         2013: 330<br>         2014: 115<br>         Total: 942\", \"Population: 6,902,149<br>         2006: 47<br>         2007: 137<br>         2008: 224<br>         2009: 33<br>         2010: 110<br>         2011: 196<br>         2012: 440<br>         2013: 763<br>         2014: 272<br>         Total: 2222\", \"Population: 6,042,718<br>         2006: 33<br>         2007: 235<br>         2008: 311<br>         2009: 55<br>         2010: 147<br>         2011: 312<br>         2012: 580<br>         2013: 841<br>         2014: 280<br>         Total: 2794\", \"Population: 1,338,404<br>         2006: 8<br>         2007: 34<br>         2008: 59<br>         Total: 101\", \"Population: 9,995,915<br>         2006: 133<br>         2007: 442<br>         2008: 393<br>         2009: 58<br>         2010: 164<br>         2011: 321<br>         2012: 622<br>         2013: 1048<br>         2014: 387<br>         Total: 3568\", \"Population: 5,611,179<br>         2006: 5<br>         2007: 216<br>         2008: 375<br>         2009: 59<br>         2010: 120<br>         2011: 229<br>         2012: 397<br>         2013: 670<br>         2014: 237<br>         Total: 2308\", \"Population: 6,126,452<br>         2006: 112<br>         2007: 370<br>         2008: 336<br>         2009: 63<br>         2010: 162<br>         2011: 275<br>         2012: 411<br>         2013: 653<br>         2014: 216<br>         Total: 2598\", \"Population: 2,986,530<br>         2006: 8<br>         2007: 29<br>         2008: 75<br>         2009: 14<br>         2010: 34<br>         2011: 96<br>         2012: 146<br>         2013: 287<br>         2014: 94<br>         Total: 783\", \"Population: 1,062,305<br>         2006: 15<br>         2007: 43<br>         2008: 51<br>         2009: 4<br>         2010: 15<br>         2011: 31<br>         2012: 48<br>         2013: 95<br>         2014: 26<br>         Total: 328\", \"Population: 10,383,620<br>         2006: 70<br>         2007: 213<br>         2008: 358<br>         2009: 66<br>         2010: 211<br>         2011: 361<br>         2012: 602<br>         2013: 875<br>         2014: 311<br>         Total: 3067\", \"Population: 760,077<br>         2006: 7<br>         2007: 20<br>         2008: 25<br>         Total: 52\", \"Population: 1,929,268<br>         2006: 9<br>         2007: 42<br>         2008: 67<br>         2009: 13<br>         2010: 31<br>         2011: 68<br>         2012: 108<br>         2013: 228<br>         2014: 98<br>         Total: 664\", \"Population: 1,356,458<br>         2006: 11<br>         2007: 39<br>         2008: 58<br>         2009: 6<br>         2010: 21<br>         2011: 53<br>         2012: 104<br>         2013: 181<br>         2014: 73<br>         Total: 546\", \"Population: 8,908,520<br>         2006: 34<br>         2007: 127<br>         2008: 207<br>         2009: 44<br>         2010: 144<br>         2011: 331<br>         2012: 622<br>         2013: 1166<br>         2014: 387<br>         Total: 3062\", \"Population: 2,095,428<br>         2006: 20<br>         2007: 68<br>         2008: 53<br>         2009: 5<br>         2010: 19<br>         2011: 45<br>         2012: 65<br>         2013: 126<br>         2014: 68<br>         Total: 469\", \"Population: 3,034,392<br>         2008: 65<br>         2009: 15<br>         2010: 63<br>         2011: 111<br>         2012: 192<br>         2013: 475<br>         2014: 157<br>         Total: 1078\", \"Population: 19,542,209<br>         2006: 113<br>         2007: 261<br>         2008: 502<br>         2009: 95<br>         2010: 339<br>         2011: 721<br>         2012: 1371<br>         2013: 2431<br>         2014: 827<br>         Total: 6660\", \"Population: 11,689,442<br>         2006: 6<br>         2007: 337<br>         2008: 477<br>         2009: 68<br>         2010: 220<br>         2011: 440<br>         2012: 765<br>         2013: 1360<br>         2014: 491<br>         Total: 4164\", \"Population: 3,943,079<br>         2006: 24<br>         2007: 92<br>         2008: 122<br>         2009: 19<br>         2010: 56<br>         2011: 83<br>         2012: 174<br>         2013: 283<br>         2014: 113<br>         Total: 966\", \"Population: 4,190,713<br>         2006: 82<br>         2007: 264<br>         2008: 254<br>         2009: 49<br>         2010: 103<br>         2011: 166<br>         2012: 281<br>         2013: 465<br>         2014: 142<br>         Total: 1806\", \"Population: 12,807,060<br>         2006: 11<br>         2007: 5<br>         2008: 277<br>         2009: 62<br>         2010: 145<br>         2011: 358<br>         2012: 619<br>         2013: 1093<br>         2014: 380<br>         Total: 2950\", \"Population: 1,057,315<br>         2008: 25<br>         2009: 6<br>         2010: 22<br>         2011: 56<br>         2012: 89<br>         2013: 180<br>         2014: 54<br>         Total: 432\", \"Population: 5,084,127<br>         2006: 5<br>         2007: 26<br>         2008: 94<br>         2009: 28<br>         2010: 69<br>         2011: 132<br>         2012: 238<br>         2013: 400<br>         2014: 117<br>         Total: 1109\", \"Population: 882,235<br>         2009: 2<br>         2010: 13<br>         2011: 32<br>         2012: 49<br>         2013: 66<br>         2014: 23<br>         Total: 185\", \"Population: 6,770,010<br>         2006: 15<br>         2007: 16<br>         2008: 166<br>         2009: 37<br>         2010: 116<br>         2011: 235<br>         2012: 388<br>         2013: 560<br>         2014: 194<br>         Total: 1727\", \"Population: 28,701,845<br>         2006: 491<br>         2007: 509<br>         2008: 190<br>         2009: 114<br>         2010: 308<br>         2011: 694<br>         2012: 1179<br>         2013: 2446<br>         2014: 855<br>         Total: 6786\", \"Population: 3,161,105<br>         2006: 38<br>         2007: 162<br>         2008: 155<br>         2009: 22<br>         2010: 69<br>         2011: 79<br>         2012: 88<br>         2013: 189<br>         2014: 71<br>         Total: 873\", \"Population: 8,517,685<br>         2006: 37<br>         2007: 114<br>         2008: 345<br>         2009: 73<br>         2010: 205<br>         2011: 405<br>         2012: 641<br>         2013: 1068<br>         2014: 363<br>         Total: 3251\", \"Population: 626,299<br>         2007: 15<br>         2008: 20<br>         2009: 5<br>         2010: 8<br>         2011: 16<br>         2012: 31<br>         2013: 82<br>         2014: 28<br>         Total: 205\", \"Population: 7,535,591<br>         2006: 107<br>         2007: 332<br>         2008: 449<br>         2009: 78<br>         2010: 172<br>         2011: 312<br>         2012: 522<br>         2013: 771<br>         2014: 283<br>         Total: 3026\", \"Population: 5,813,568<br>         2006: 35<br>         2007: 107<br>         2008: 178<br>         2009: 32<br>         2010: 92<br>         2011: 207<br>         2012: 355<br>         2013: 621<br>         2014: 200<br>         Total: 1827\", \"Population: 1,805,832<br>         2006: 13<br>         2007: 26<br>         2008: 42<br>         2009: 7<br>         2010: 16<br>         2011: 42<br>         2012: 68<br>         2013: 138<br>         2014: 34<br>         Total: 386\", \"Population: 577,737<br>         2006: 1<br>         2007: 8<br>         2008: 18<br>         2009: 4<br>         2010: 9<br>         2011: 11<br>         2012: 20<br>         2013: 64<br>         2014: 15<br>         Total: 150\"], \"z\": [199.0, 1668.0, 851.0, 1882.0, 14594.0, 2189.0, 1613.0, 379.0, 299.0, 6667.0, 4976.0, 407.0, 186.0, 589.0, 5872.0, 2069.0, 1052.0, 974.0, 942.0, 2222.0, 2794.0, 101.0, 3568.0, 2308.0, 2598.0, 783.0, 328.0, 3067.0, 52.0, 664.0, 546.0, 3062.0, 469.0, 1078.0, 6660.0, 4164.0, 966.0, 1806.0, 2950.0, 432.0, 1109.0, 185.0, 1727.0, 6786.0, 873.0, 3251.0, 205.0, 3026.0, 1827.0, 386.0, 150.0], \"type\": \"choropleth\", \"uid\": \"940f2027-faad-4ddc-a93a-c953197d08e3\"}], {\"geo\": {\"lakecolor\": \"rgb(255,255,255)\", \"projection\": {\"type\": \"albers usa\"}, \"scope\": \"usa\", \"showlakes\": true}, \"images\": [{\"sizex\": 0.5, \"sizey\": 0.5, \"source\": \"https://i.imgur.com/SDhVixP.png\", \"x\": 1.1, \"xanchor\": \"right\", \"xref\": \"paper\", \"y\": -0.35, \"yanchor\": \"bottom\", \"yref\": \"paper\"}]}, {\"showLink\": false, \"linkText\": \"Export to plot.ly\", \"displayModeBar\": false, \"plotlyServerURL\": \"https://plot.ly\"})});</script><script type=\"text/javascript\">window.addEventListener(\"resize\", function(){window._Plotly.Plots.resize(document.getElementById(\"b259145e-fa02-4ad0-bbfe-07c190370f90\"));});</script>"
      ],
      "text/vnd.plotly.v1+html": [
       "<div id=\"b259145e-fa02-4ad0-bbfe-07c190370f90\" style=\"height: 525px; width: 100%;\" class=\"plotly-graph-div\"></div><script type=\"text/javascript\">require([\"plotly\"], function(Plotly) { window.PLOTLYENV=window.PLOTLYENV || {};window.PLOTLYENV.BASE_URL=\"https://plot.ly\";Plotly.newPlot(\"b259145e-fa02-4ad0-bbfe-07c190370f90\", [{\"autocolorscale\": false, \"colorbar\": {\"title\": \"Loans\", \"titlefont\": {\"family\": \"Arial\"}}, \"colorscale\": [[0.0, \"rgb(218,218,235)\"], [0.1, \"rgb(220,208,212)\"], [0.2, \"rgb(223,198,189)\"], [0.3, \"rgb(225,189,166)\"], [0.4, \"rgb(227,179,143)\"], [0.5, \"rgb(230,169,120)\"], [0.6, \"rgb(232,159,97)\"], [0.7, \"rgb(234,149,74)\"], [0.8, \"rgb(236,140,51)\"], [0.9, \"rgb(239,130,28)\"], [1.0, \"rgb(241,120,5)\"]], \"hoverinfo\": \"location+text\", \"locationmode\": \"USA-states\", \"locations\": [\"AK\", \"AL\", \"AR\", \"AZ\", \"CA\", \"CO\", \"CT\", \"DC\", \"DE\", \"FL\", \"GA\", \"HI\", \"IA\", \"ID\", \"IL\", \"IN\", \"KS\", \"KY\", \"LA\", \"MA\", \"MD\", \"ME\", \"MI\", \"MN\", \"MO\", \"MS\", \"MT\", \"NC\", \"ND\", \"NE\", \"NH\", \"NJ\", \"NM\", \"NV\", \"NY\", \"OH\", \"OK\", \"OR\", \"PA\", \"RI\", \"SC\", \"SD\", \"TN\", \"TX\", \"UT\", \"VA\", \"VT\", \"WA\", \"WI\", \"WV\", \"WY\"], \"marker\": {\"line\": {\"color\": \"rgb(255,255,255)\", \"width\": 2}}, \"reversescale\": false, \"text\": [\"Population: 737,438<br>         2006: 2<br>         2007: 11<br>         2008: 20<br>         2009: 1<br>         2010: 11<br>         2011: 26<br>         2012: 40<br>         2013: 60<br>         2014: 28<br>         Total: 199\", \"Population: 4,887,871<br>         2006: 71<br>         2007: 225<br>         2008: 195<br>         2009: 24<br>         2010: 89<br>         2011: 156<br>         2012: 294<br>         2013: 467<br>         2014: 147<br>         Total: 1668\", \"Population: 3,013,825<br>         2006: 6<br>         2007: 8<br>         2008: 72<br>         2009: 15<br>         2010: 34<br>         2011: 90<br>         2012: 172<br>         2013: 331<br>         2014: 123<br>         Total: 851\", \"Population: 7,171,646<br>         2006: 69<br>         2007: 218<br>         2008: 255<br>         2009: 26<br>         2010: 85<br>         2011: 144<br>         2012: 316<br>         2013: 554<br>         2014: 215<br>         Total: 1882\", \"Population: 39,557,045<br>         2006: 503<br>         2007: 1724<br>         2008: 1711<br>         2009: 267<br>         2010: 752<br>         2011: 1304<br>         2012: 2313<br>         2013: 4469<br>         2014: 1551<br>         Total: 14594\", \"Population: 5,695,564<br>         2006: 53<br>         2007: 192<br>         2008: 231<br>         2009: 60<br>         2010: 117<br>         2011: 235<br>         2012: 395<br>         2013: 663<br>         2014: 243<br>         Total: 2189\", \"Population: 3,572,665<br>         2006: 8<br>         2007: 30<br>         2008: 91<br>         2009: 37<br>         2010: 80<br>         2011: 194<br>         2012: 335<br>         2013: 640<br>         2014: 198<br>         Total: 1613\", \"Population: 702,455<br>         2008: 52<br>         2009: 11<br>         2010: 18<br>         2011: 64<br>         2012: 87<br>         2013: 110<br>         2014: 37<br>         Total: 379\", \"Population: 967,171<br>         2006: 2<br>         2007: 5<br>         2008: 25<br>         2009: 7<br>         2010: 16<br>         2011: 31<br>         2012: 61<br>         2013: 101<br>         2014: 51<br>         Total: 299\", \"Population: 21,299,325<br>         2006: 144<br>         2007: 409<br>         2008: 757<br>         2009: 116<br>         2010: 355<br>         2011: 804<br>         2012: 1345<br>         2013: 2028<br>         2014: 709<br>         Total: 6667\", \"Population: 10,519,475<br>         2006: 251<br>         2007: 719<br>         2008: 683<br>         2009: 125<br>         2010: 262<br>         2011: 502<br>         2012: 800<br>         2013: 1210<br>         2014: 424<br>         Total: 4976\", \"Population: 1,420,491<br>         2006: 5<br>         2007: 18<br>         2008: 43<br>         2009: 7<br>         2010: 14<br>         2011: 34<br>         2012: 68<br>         2013: 166<br>         2014: 52<br>         Total: 407\", \"Population: 3,156,145<br>         2006: 13<br>         2007: 73<br>         2008: 100<br>         Total: 186\", \"Population: 1,754,208<br>         2006: 20<br>         2007: 75<br>         2008: 101<br>         2009: 14<br>         2010: 40<br>         2011: 48<br>         2012: 75<br>         2013: 155<br>         2014: 61<br>         Total: 589\", \"Population: 12,741,080<br>         2006: 167<br>         2007: 726<br>         2008: 756<br>         2009: 132<br>         2010: 319<br>         2011: 607<br>         2012: 965<br>         2013: 1669<br>         2014: 531<br>         Total: 5872\", \"Population: 6,691,878<br>         2006: 50<br>         2007: 144<br>         2008: 230<br>         2009: 46<br>         2010: 115<br>         2011: 238<br>         2012: 403<br>         2013: 630<br>         2014: 213<br>         Total: 2069\", \"Population: 2,911,505<br>         2006: 32<br>         2007: 71<br>         2008: 103<br>         2009: 4<br>         2010: 46<br>         2011: 111<br>         2012: 208<br>         2013: 348<br>         2014: 129<br>         Total: 1052\", \"Population: 4,468,402<br>         2006: 1<br>         2007: 21<br>         2008: 72<br>         2009: 12<br>         2010: 49<br>         2011: 111<br>         2012: 241<br>         2013: 356<br>         2014: 111<br>         Total: 974\", \"Population: 4,659,978<br>         2006: 19<br>         2007: 40<br>         2008: 53<br>         2009: 7<br>         2010: 47<br>         2011: 111<br>         2012: 220<br>         2013: 330<br>         2014: 115<br>         Total: 942\", \"Population: 6,902,149<br>         2006: 47<br>         2007: 137<br>         2008: 224<br>         2009: 33<br>         2010: 110<br>         2011: 196<br>         2012: 440<br>         2013: 763<br>         2014: 272<br>         Total: 2222\", \"Population: 6,042,718<br>         2006: 33<br>         2007: 235<br>         2008: 311<br>         2009: 55<br>         2010: 147<br>         2011: 312<br>         2012: 580<br>         2013: 841<br>         2014: 280<br>         Total: 2794\", \"Population: 1,338,404<br>         2006: 8<br>         2007: 34<br>         2008: 59<br>         Total: 101\", \"Population: 9,995,915<br>         2006: 133<br>         2007: 442<br>         2008: 393<br>         2009: 58<br>         2010: 164<br>         2011: 321<br>         2012: 622<br>         2013: 1048<br>         2014: 387<br>         Total: 3568\", \"Population: 5,611,179<br>         2006: 5<br>         2007: 216<br>         2008: 375<br>         2009: 59<br>         2010: 120<br>         2011: 229<br>         2012: 397<br>         2013: 670<br>         2014: 237<br>         Total: 2308\", \"Population: 6,126,452<br>         2006: 112<br>         2007: 370<br>         2008: 336<br>         2009: 63<br>         2010: 162<br>         2011: 275<br>         2012: 411<br>         2013: 653<br>         2014: 216<br>         Total: 2598\", \"Population: 2,986,530<br>         2006: 8<br>         2007: 29<br>         2008: 75<br>         2009: 14<br>         2010: 34<br>         2011: 96<br>         2012: 146<br>         2013: 287<br>         2014: 94<br>         Total: 783\", \"Population: 1,062,305<br>         2006: 15<br>         2007: 43<br>         2008: 51<br>         2009: 4<br>         2010: 15<br>         2011: 31<br>         2012: 48<br>         2013: 95<br>         2014: 26<br>         Total: 328\", \"Population: 10,383,620<br>         2006: 70<br>         2007: 213<br>         2008: 358<br>         2009: 66<br>         2010: 211<br>         2011: 361<br>         2012: 602<br>         2013: 875<br>         2014: 311<br>         Total: 3067\", \"Population: 760,077<br>         2006: 7<br>         2007: 20<br>         2008: 25<br>         Total: 52\", \"Population: 1,929,268<br>         2006: 9<br>         2007: 42<br>         2008: 67<br>         2009: 13<br>         2010: 31<br>         2011: 68<br>         2012: 108<br>         2013: 228<br>         2014: 98<br>         Total: 664\", \"Population: 1,356,458<br>         2006: 11<br>         2007: 39<br>         2008: 58<br>         2009: 6<br>         2010: 21<br>         2011: 53<br>         2012: 104<br>         2013: 181<br>         2014: 73<br>         Total: 546\", \"Population: 8,908,520<br>         2006: 34<br>         2007: 127<br>         2008: 207<br>         2009: 44<br>         2010: 144<br>         2011: 331<br>         2012: 622<br>         2013: 1166<br>         2014: 387<br>         Total: 3062\", \"Population: 2,095,428<br>         2006: 20<br>         2007: 68<br>         2008: 53<br>         2009: 5<br>         2010: 19<br>         2011: 45<br>         2012: 65<br>         2013: 126<br>         2014: 68<br>         Total: 469\", \"Population: 3,034,392<br>         2008: 65<br>         2009: 15<br>         2010: 63<br>         2011: 111<br>         2012: 192<br>         2013: 475<br>         2014: 157<br>         Total: 1078\", \"Population: 19,542,209<br>         2006: 113<br>         2007: 261<br>         2008: 502<br>         2009: 95<br>         2010: 339<br>         2011: 721<br>         2012: 1371<br>         2013: 2431<br>         2014: 827<br>         Total: 6660\", \"Population: 11,689,442<br>         2006: 6<br>         2007: 337<br>         2008: 477<br>         2009: 68<br>         2010: 220<br>         2011: 440<br>         2012: 765<br>         2013: 1360<br>         2014: 491<br>         Total: 4164\", \"Population: 3,943,079<br>         2006: 24<br>         2007: 92<br>         2008: 122<br>         2009: 19<br>         2010: 56<br>         2011: 83<br>         2012: 174<br>         2013: 283<br>         2014: 113<br>         Total: 966\", \"Population: 4,190,713<br>         2006: 82<br>         2007: 264<br>         2008: 254<br>         2009: 49<br>         2010: 103<br>         2011: 166<br>         2012: 281<br>         2013: 465<br>         2014: 142<br>         Total: 1806\", \"Population: 12,807,060<br>         2006: 11<br>         2007: 5<br>         2008: 277<br>         2009: 62<br>         2010: 145<br>         2011: 358<br>         2012: 619<br>         2013: 1093<br>         2014: 380<br>         Total: 2950\", \"Population: 1,057,315<br>         2008: 25<br>         2009: 6<br>         2010: 22<br>         2011: 56<br>         2012: 89<br>         2013: 180<br>         2014: 54<br>         Total: 432\", \"Population: 5,084,127<br>         2006: 5<br>         2007: 26<br>         2008: 94<br>         2009: 28<br>         2010: 69<br>         2011: 132<br>         2012: 238<br>         2013: 400<br>         2014: 117<br>         Total: 1109\", \"Population: 882,235<br>         2009: 2<br>         2010: 13<br>         2011: 32<br>         2012: 49<br>         2013: 66<br>         2014: 23<br>         Total: 185\", \"Population: 6,770,010<br>         2006: 15<br>         2007: 16<br>         2008: 166<br>         2009: 37<br>         2010: 116<br>         2011: 235<br>         2012: 388<br>         2013: 560<br>         2014: 194<br>         Total: 1727\", \"Population: 28,701,845<br>         2006: 491<br>         2007: 509<br>         2008: 190<br>         2009: 114<br>         2010: 308<br>         2011: 694<br>         2012: 1179<br>         2013: 2446<br>         2014: 855<br>         Total: 6786\", \"Population: 3,161,105<br>         2006: 38<br>         2007: 162<br>         2008: 155<br>         2009: 22<br>         2010: 69<br>         2011: 79<br>         2012: 88<br>         2013: 189<br>         2014: 71<br>         Total: 873\", \"Population: 8,517,685<br>         2006: 37<br>         2007: 114<br>         2008: 345<br>         2009: 73<br>         2010: 205<br>         2011: 405<br>         2012: 641<br>         2013: 1068<br>         2014: 363<br>         Total: 3251\", \"Population: 626,299<br>         2007: 15<br>         2008: 20<br>         2009: 5<br>         2010: 8<br>         2011: 16<br>         2012: 31<br>         2013: 82<br>         2014: 28<br>         Total: 205\", \"Population: 7,535,591<br>         2006: 107<br>         2007: 332<br>         2008: 449<br>         2009: 78<br>         2010: 172<br>         2011: 312<br>         2012: 522<br>         2013: 771<br>         2014: 283<br>         Total: 3026\", \"Population: 5,813,568<br>         2006: 35<br>         2007: 107<br>         2008: 178<br>         2009: 32<br>         2010: 92<br>         2011: 207<br>         2012: 355<br>         2013: 621<br>         2014: 200<br>         Total: 1827\", \"Population: 1,805,832<br>         2006: 13<br>         2007: 26<br>         2008: 42<br>         2009: 7<br>         2010: 16<br>         2011: 42<br>         2012: 68<br>         2013: 138<br>         2014: 34<br>         Total: 386\", \"Population: 577,737<br>         2006: 1<br>         2007: 8<br>         2008: 18<br>         2009: 4<br>         2010: 9<br>         2011: 11<br>         2012: 20<br>         2013: 64<br>         2014: 15<br>         Total: 150\"], \"z\": [199.0, 1668.0, 851.0, 1882.0, 14594.0, 2189.0, 1613.0, 379.0, 299.0, 6667.0, 4976.0, 407.0, 186.0, 589.0, 5872.0, 2069.0, 1052.0, 974.0, 942.0, 2222.0, 2794.0, 101.0, 3568.0, 2308.0, 2598.0, 783.0, 328.0, 3067.0, 52.0, 664.0, 546.0, 3062.0, 469.0, 1078.0, 6660.0, 4164.0, 966.0, 1806.0, 2950.0, 432.0, 1109.0, 185.0, 1727.0, 6786.0, 873.0, 3251.0, 205.0, 3026.0, 1827.0, 386.0, 150.0], \"type\": \"choropleth\", \"uid\": \"940f2027-faad-4ddc-a93a-c953197d08e3\"}], {\"geo\": {\"lakecolor\": \"rgb(255,255,255)\", \"projection\": {\"type\": \"albers usa\"}, \"scope\": \"usa\", \"showlakes\": true}, \"images\": [{\"sizex\": 0.5, \"sizey\": 0.5, \"source\": \"https://i.imgur.com/SDhVixP.png\", \"x\": 1.1, \"xanchor\": \"right\", \"xref\": \"paper\", \"y\": -0.35, \"yanchor\": \"bottom\", \"yref\": \"paper\"}]}, {\"showLink\": false, \"linkText\": \"Export to plot.ly\", \"displayModeBar\": false, \"plotlyServerURL\": \"https://plot.ly\"})});</script><script type=\"text/javascript\">window.addEventListener(\"resize\", function(){window._Plotly.Plots.resize(document.getElementById(\"b259145e-fa02-4ad0-bbfe-07c190370f90\"));});</script>"
      ]
     },
     "metadata": {},
     "output_type": "display_data"
    }
   ],
   "source": [
    "# Plot map.\n",
    "py.offline.iplot(fig, config=config);"
   ]
  },
  {
   "cell_type": "code",
   "execution_count": null,
   "metadata": {
    "slideshow": {
     "slide_type": "subslide"
    }
   },
   "outputs": [],
   "source": []
  },
  {
   "cell_type": "markdown",
   "metadata": {
    "collapsed": true,
    "slideshow": {
     "slide_type": "slide"
    }
   },
   "source": [
    "## (Visualization 2)\n",
    "\n",
    "> You should have at least three visualizations in your presentation,\n",
    "but feel free to add more if you'd like!"
   ]
  },
  {
   "cell_type": "code",
   "execution_count": null,
   "metadata": {
    "slideshow": {
     "slide_type": "subslide"
    }
   },
   "outputs": [],
   "source": []
  },
  {
   "cell_type": "markdown",
   "metadata": {
    "slideshow": {
     "slide_type": "slide"
    }
   },
   "source": [
    "## (Visualization 3)\n",
    "\n"
   ]
  },
  {
   "cell_type": "code",
   "execution_count": null,
   "metadata": {
    "slideshow": {
     "slide_type": "subslide"
    }
   },
   "outputs": [],
   "source": []
  },
  {
   "cell_type": "markdown",
   "metadata": {
    "slideshow": {
     "slide_type": "notes"
    }
   },
   "source": [
    "> Once you're ready to finish your presentation, check your output by using\n",
    "nbconvert to export the notebook and set up a server for the slides. From the\n",
    "terminal or command line, use the following expression:\n",
    "> > `jupyter nbconvert <file_name>.ipynb --to slides --post serve --template output_toggle`\n",
    "\n",
    "> This should open a tab in your web browser where you can scroll through your\n",
    "presentation. Sub-slides can be accessed by pressing 'down' when viewing its parent\n",
    "slide. Make sure you remove all of the quote-formatted guide notes like this one\n",
    "before you finish your presentation!"
   ]
  },
  {
   "cell_type": "code",
   "execution_count": null,
   "metadata": {},
   "outputs": [],
   "source": []
  }
 ],
 "metadata": {
  "celltoolbar": "Slideshow",
  "kernelspec": {
   "display_name": "Python 3",
   "language": "python",
   "name": "python3"
  },
  "language_info": {
   "codemirror_mode": {
    "name": "ipython",
    "version": 3
   },
   "file_extension": ".py",
   "mimetype": "text/x-python",
   "name": "python",
   "nbconvert_exporter": "python",
   "pygments_lexer": "ipython3",
   "version": "3.6.6"
  }
 },
 "nbformat": 4,
 "nbformat_minor": 2
}
